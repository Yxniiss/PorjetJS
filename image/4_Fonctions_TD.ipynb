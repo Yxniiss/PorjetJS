{
 "cells": [
  {
   "cell_type": "markdown",
   "id": "51123544-af34-467a-9210-00b25b07c182",
   "metadata": {},
   "source": [
    "## TD : Fonctions"
   ]
  },
  {
   "cell_type": "markdown",
   "id": "2de62e9d-b4ba-4fb8-bcfd-355ec2c36c31",
   "metadata": {},
   "source": [
    "### Exercice 1\n",
    "\n",
    "Le code suivant indique à un utilisateur s'il a deviné le bon prix d'un objet, stocké dans une variable `prix`. La valeur de son essai est stockée dans une variable `essai`. \n",
    "\n",
    "Le modifier pour définir une fonction `devine_prix(essai)` prenant `essai` en paramètre et affichant si le prix a été deviné.\n",
    "\n",
    "Tester la fonction en demandant *(`input`)* à l'utilisateur d'entrer une valeur pour essai, puis en appelant `devine_prix` pour cette valeur."
   ]
  },
  {
   "cell_type": "code",
   "execution_count": null,
   "id": "571e697a-812c-4478-a85f-cc2bb8e6f8eb",
   "metadata": {},
   "outputs": [],
   "source": [
    "# code à modifier\n",
    "prix = 100\n",
    "if essai == prix:\n",
    "    print(\"Vous avez trouvé !\")\n",
    "elif essai < prix:\n",
    "    print(\"Trop petit.\")\n",
    "else:\n",
    "    print(\"Trop grand.\")"
   ]
  },
  {
   "cell_type": "markdown",
   "id": "fff7477a-dd6b-487b-96cb-64a91c5ee030",
   "metadata": {},
   "source": [
    "### Exercice 2\n",
    "\n",
    "Le code suivant permet d'indiquer si un horaire, composé d'une heure et de minutes est valide. Le modifier pour définir une fonction `teste_horaire`, dont on aura identifié les paramètres, qui affiche si l'horaire est valide ou non.\n",
    "\n",
    "Tester la fonction en demandant à l'utilisateur d'entrer des valeurs pour son ou ses paramètre(s) et en l'appelant."
   ]
  },
  {
   "cell_type": "code",
   "execution_count": null,
   "id": "808869a7-68ae-493f-b0da-d6b566e1559b",
   "metadata": {},
   "outputs": [],
   "source": [
    "if heure < 24 and heure > 0 and minutes < 60 and minutes > 0:\n",
    "    print(\"L'horaire est valide\")\n",
    "else:\n",
    "    print(\"L'horaire n'est pas valide.\")"
   ]
  },
  {
   "cell_type": "markdown",
   "id": "7964bb87-f3dc-405c-a219-2ec177f4bc41",
   "metadata": {},
   "source": [
    "### Exercice 3"
   ]
  },
  {
   "cell_type": "markdown",
   "id": "3dc64777-53aa-4152-aff2-148973199a3b",
   "metadata": {},
   "source": [
    "Ecrire une fonction `nb_voyelles` qui compte le nombre de voyelles dans une chaîne de caractères. \n",
    "\n",
    "**Aide :** stocker l'ensemble des voyelles dans une chaîne de caractères. Pour savoir si un caractère `c` est présent dans une chaîne, utiliser le `in` : `c in chaine` vaut `True` si `c` est présent dans `chaine`, et `False` sinon."
   ]
  },
  {
   "cell_type": "code",
   "execution_count": null,
   "id": "afe6605f-72f5-486b-af0f-c2f96767ce09",
   "metadata": {},
   "outputs": [],
   "source": [
    "def nb_voyelles(chaine):\n",
    "    ...\n",
    "    "
   ]
  },
  {
   "cell_type": "markdown",
   "id": "1b8e4d42-0929-4789-9222-9227133a3a38",
   "metadata": {},
   "source": [
    "Pour la tester, demander à l'utilisateur d'entrer une chaîne, et afficher le résultat obtenu après appel de la fonction."
   ]
  },
  {
   "cell_type": "markdown",
   "id": "d5123bed-7d56-4c08-89b3-e4741e2cf96f",
   "metadata": {},
   "source": [
    "### Exercice 4\n",
    "\n",
    "Ecrire une fonction `nb_occurrences` qui compte le nombre d'occurrences, soit le nombre d'apparitions, d'un caractère `c` dans une chaine `chaine`."
   ]
  },
  {
   "cell_type": "code",
   "execution_count": null,
   "id": "3787738b-0d1d-4d3b-8dcf-152005d16022",
   "metadata": {},
   "outputs": [],
   "source": [
    "def nb_occurrences(c, chaine):\n",
    "    ..."
   ]
  },
  {
   "cell_type": "markdown",
   "id": "3b961216-8abc-4898-bd06-ac3cb7704144",
   "metadata": {},
   "source": [
    "Pour la tester, demander à l'utilisateur d'entrer une chaîne, un caractère à rechercher, et afficher le résultat obtenu après appel de la fonction.\n",
    "\n",
    "### Exercice 5\n",
    "\n",
    "Ecrire une fonction `maxi(a,b,c)` prenant trois entiers en paramètres et renvoyant la valeur la plus grande des trois."
   ]
  },
  {
   "cell_type": "code",
   "execution_count": null,
   "id": "d8643763-4508-453b-addb-33b82b9ae724",
   "metadata": {},
   "outputs": [],
   "source": []
  },
  {
   "cell_type": "markdown",
   "id": "4c0c9aac-cae3-492e-9f6a-d5dafbe86237",
   "metadata": {},
   "source": [
    "Pour la tester, demander à l'utilisateur d'entrer 3 entiers, et afficher le résultat obtenu après l'appel de la fonction."
   ]
  }
 ],
 "metadata": {
  "kernelspec": {
   "display_name": "Python 3 (ipykernel)",
   "language": "python",
   "name": "python3"
  },
  "language_info": {
   "codemirror_mode": {
    "name": "ipython",
    "version": 3
   },
   "file_extension": ".py",
   "mimetype": "text/x-python",
   "name": "python",
   "nbconvert_exporter": "python",
   "pygments_lexer": "ipython3",
   "version": "3.12.4"
  }
 },
 "nbformat": 4,
 "nbformat_minor": 5
}
